{
 "cells": [
  {
   "cell_type": "markdown",
   "metadata": {},
   "source": [
    "**Домашнее задание**\n",
    "\n",
    "Возьмите датасет https://www.kaggle.com/ajayrana/hymenoptera-data\n",
    "\n",
    "Реализуйте сверточную нейронную сеть с использованием tf.keras или keras. Используйте сверточные, пуллинговые и полносвязанные слои. Обучите на train выборке в течении 10 эпох, оцените качество на отложенной выборке\n",
    "\n",
    "Добавьте в предыдущую архитектуру слои BatchNorm. Обучите на train выборке в течении 10 эпох, оцените качество на отложенной выборке\n",
    "\n",
    "Создайте модель ResNet 50 (https://www.tensorflow.org/api_docs/python/tf/keras/applications/ResNet50), инициализированную случайными весами, и обучите ее на train выборке в течении 10 эпох, оцените качество на отложенной выборке\n",
    "\n",
    "Создайте модель ResNet 50, инициализированную весами ImageNet, и обучите ее на train выборке в течении 10 эпох, оцените качество на отложенной выборке\n",
    "\n",
    "Результат пришлите в виде Jupyter Notebook на github’е или расшаренного Google Colab-блокнота"
   ]
  },
  {
   "cell_type": "code",
   "execution_count": 1,
   "metadata": {},
   "outputs": [],
   "source": [
    "import numpy as np\n",
    "from scipy import stats\n",
    "import tensorflow as tf\n",
    "from matplotlib import pyplot as plt\n",
    "from sklearn.metrics import accuracy_score, classification_report, confusion_matrix"
   ]
  },
  {
   "cell_type": "markdown",
   "metadata": {},
   "source": [
    "Загрузим изображения, приведем к единому размеру и разделим выборки."
   ]
  },
  {
   "cell_type": "code",
   "execution_count": 2,
   "metadata": {},
   "outputs": [
    {
     "name": "stdout",
     "output_type": "stream",
     "text": [
      "Found 208 images belonging to 2 classes.\n",
      "Found 36 images belonging to 2 classes.\n",
      "Found 153 images belonging to 2 classes.\n"
     ]
    }
   ],
   "source": [
    "shape=(224, 224, 3)\n",
    "batch_size=32\n",
    "seed=42\n",
    "\n",
    "train_generator = tf.keras.preprocessing.image.ImageDataGenerator(rescale=1./255, validation_split=0.15)\n",
    "val_generator = tf.keras.preprocessing.image.ImageDataGenerator(rescale=1./255.)\n",
    "\n",
    "train = train_generator.flow_from_directory(\"hymenoptera_data/train\", target_size=shape[:2], batch_size=batch_size, class_mode='binary', subset='training', seed=seed)\n",
    "test = train_generator.flow_from_directory(\"hymenoptera_data/train\", target_size=shape[:2], batch_size=batch_size, class_mode='binary', subset='validation', seed=seed)\n",
    "val = val_generator.flow_from_directory(\"hymenoptera_data/val\", target_size=shape[:2], batch_size=batch_size, class_mode='binary')\n",
    "\n",
    "x_val = np.concatenate([val.next()[0] for i in range(val.__len__())])\n",
    "y_val = np.concatenate([val.next()[1] for i in range(val.__len__())])"
   ]
  },
  {
   "cell_type": "markdown",
   "metadata": {},
   "source": [
    "Построим простую модель сверточной сети  и обучим ее."
   ]
  },
  {
   "cell_type": "code",
   "execution_count": 3,
   "metadata": {},
   "outputs": [
    {
     "name": "stdout",
     "output_type": "stream",
     "text": [
      "Model: \"sequential\"\n",
      "_________________________________________________________________\n",
      "Layer (type)                 Output Shape              Param #   \n",
      "=================================================================\n",
      "conv2d (Conv2D)              (None, 224, 224, 6)       168       \n",
      "_________________________________________________________________\n",
      "max_pooling2d (MaxPooling2D) (None, 112, 112, 6)       0         \n",
      "_________________________________________________________________\n",
      "conv2d_1 (Conv2D)            (None, 112, 112, 16)      2416      \n",
      "_________________________________________________________________\n",
      "max_pooling2d_1 (MaxPooling2 (None, 56, 56, 16)        0         \n",
      "_________________________________________________________________\n",
      "flatten (Flatten)            (None, 50176)             0         \n",
      "_________________________________________________________________\n",
      "dense (Dense)                (None, 32)                1605664   \n",
      "_________________________________________________________________\n",
      "dense_1 (Dense)              (None, 1)                 33        \n",
      "=================================================================\n",
      "Total params: 1,608,281\n",
      "Trainable params: 1,608,281\n",
      "Non-trainable params: 0\n",
      "_________________________________________________________________\n",
      "Epoch 1/10\n",
      "7/7 [==============================] - 6s 869ms/step - loss: 1.8005 - accuracy: 0.4789 - val_loss: 0.9329 - val_accuracy: 0.5000\n",
      "Epoch 2/10\n",
      "7/7 [==============================] - 3s 457ms/step - loss: 0.7762 - accuracy: 0.5598 - val_loss: 0.6710 - val_accuracy: 0.5278\n",
      "Epoch 3/10\n",
      "7/7 [==============================] - 3s 457ms/step - loss: 0.6747 - accuracy: 0.5715 - val_loss: 0.6578 - val_accuracy: 0.6111\n",
      "Epoch 4/10\n",
      "7/7 [==============================] - 3s 461ms/step - loss: 0.6407 - accuracy: 0.6733 - val_loss: 0.6354 - val_accuracy: 0.5833\n",
      "Epoch 5/10\n",
      "7/7 [==============================] - 3s 499ms/step - loss: 0.6088 - accuracy: 0.7598 - val_loss: 0.6174 - val_accuracy: 0.6667\n",
      "Epoch 6/10\n",
      "7/7 [==============================] - 3s 453ms/step - loss: 0.5492 - accuracy: 0.7523 - val_loss: 0.5726 - val_accuracy: 0.6944\n",
      "Epoch 7/10\n",
      "7/7 [==============================] - 3s 452ms/step - loss: 0.4759 - accuracy: 0.8004 - val_loss: 0.5582 - val_accuracy: 0.6944\n",
      "Epoch 8/10\n",
      "7/7 [==============================] - 3s 457ms/step - loss: 0.4177 - accuracy: 0.8851 - val_loss: 0.5279 - val_accuracy: 0.7778\n",
      "Epoch 9/10\n",
      "7/7 [==============================] - 3s 456ms/step - loss: 0.3649 - accuracy: 0.8812 - val_loss: 0.5814 - val_accuracy: 0.6944\n",
      "Epoch 10/10\n",
      "7/7 [==============================] - 3s 463ms/step - loss: 0.3101 - accuracy: 0.9010 - val_loss: 0.4873 - val_accuracy: 0.7778\n"
     ]
    }
   ],
   "source": [
    "s_model = tf.keras.models.Sequential([\n",
    "    tf.keras.layers.Conv2D(filters=6,\n",
    "                           kernel_size=(3, 3),\n",
    "                           padding='same',\n",
    "                           activation='relu',\n",
    "                           input_shape=shape),\n",
    "    tf.keras.layers.MaxPool2D(pool_size=(2, 2), padding='valid'),\n",
    "    tf.keras.layers.Conv2D(filters=16, \n",
    "                           kernel_size=(5, 5),\n",
    "                           padding='same',\n",
    "                           activation='relu'),\n",
    "    tf.keras.layers.MaxPool2D(pool_size=(2, 2), padding='valid'),\n",
    "    tf.keras.layers.Flatten(),\n",
    "    tf.keras.layers.Dense(32, activation='relu'),\n",
    "    tf.keras.layers.Dense(1, activation='sigmoid')]\n",
    ")\n",
    "\n",
    "s_model.compile(optimizer='adam', loss='binary_crossentropy', metrics=['accuracy'])\n",
    "s_model.summary()\n",
    "s_model.fit(train, validation_data=test, epochs=10);"
   ]
  },
  {
   "cell_type": "markdown",
   "metadata": {},
   "source": [
    "Посчитаем accuracy на отложенной выборке."
   ]
  },
  {
   "cell_type": "code",
   "execution_count": 4,
   "metadata": {},
   "outputs": [],
   "source": [
    "def score_and_show(model, x, y):\n",
    "    y_pred = model.predict(x).round()\n",
    "    print(f'Accuracy: {accuracy_score(y, y_pred)}')\n",
    "    print('\\nClassification Report')\n",
    "    print(classification_report(y, y_pred))\n",
    "    print('Confusion matrix')\n",
    "    print(confusion_matrix(y, y_pred))"
   ]
  },
  {
   "cell_type": "code",
   "execution_count": 5,
   "metadata": {},
   "outputs": [
    {
     "name": "stdout",
     "output_type": "stream",
     "text": [
      "Accuracy: 0.477124183006536\n",
      "\n",
      "Classification Report\n",
      "              precision    recall  f1-score   support\n",
      "\n",
      "         0.0       0.44      0.57      0.50        70\n",
      "         1.0       0.52      0.40      0.45        83\n",
      "\n",
      "    accuracy                           0.48       153\n",
      "   macro avg       0.48      0.48      0.48       153\n",
      "weighted avg       0.49      0.48      0.47       153\n",
      "\n",
      "Confusion matrix\n",
      "[[40 30]\n",
      " [50 33]]\n"
     ]
    }
   ],
   "source": [
    "score_and_show(s_model, x_val, y_val)"
   ]
  },
  {
   "cell_type": "markdown",
   "metadata": {},
   "source": [
    "Далеко не лучший результат на отложенной выборке."
   ]
  },
  {
   "cell_type": "markdown",
   "metadata": {},
   "source": [
    "Построим модель со слоями батч-нормализации и обучим ее."
   ]
  },
  {
   "cell_type": "code",
   "execution_count": 6,
   "metadata": {},
   "outputs": [
    {
     "name": "stdout",
     "output_type": "stream",
     "text": [
      "Model: \"sequential_1\"\n",
      "_________________________________________________________________\n",
      "Layer (type)                 Output Shape              Param #   \n",
      "=================================================================\n",
      "batch_normalization (BatchNo (None, 224, 224, 3)       12        \n",
      "_________________________________________________________________\n",
      "conv2d_2 (Conv2D)            (None, 224, 224, 6)       168       \n",
      "_________________________________________________________________\n",
      "max_pooling2d_2 (MaxPooling2 (None, 112, 112, 6)       0         \n",
      "_________________________________________________________________\n",
      "batch_normalization_1 (Batch (None, 112, 112, 6)       24        \n",
      "_________________________________________________________________\n",
      "conv2d_3 (Conv2D)            (None, 112, 112, 16)      2416      \n",
      "_________________________________________________________________\n",
      "max_pooling2d_3 (MaxPooling2 (None, 56, 56, 16)        0         \n",
      "_________________________________________________________________\n",
      "batch_normalization_2 (Batch (None, 56, 56, 16)        64        \n",
      "_________________________________________________________________\n",
      "flatten_1 (Flatten)          (None, 50176)             0         \n",
      "_________________________________________________________________\n",
      "dense_2 (Dense)              (None, 32)                1605664   \n",
      "_________________________________________________________________\n",
      "dense_3 (Dense)              (None, 1)                 33        \n",
      "=================================================================\n",
      "Total params: 1,608,381\n",
      "Trainable params: 1,608,331\n",
      "Non-trainable params: 50\n",
      "_________________________________________________________________\n",
      "Epoch 1/10\n",
      "7/7 [==============================] - 6s 767ms/step - loss: 2.7290 - accuracy: 0.5419 - val_loss: 1.2006 - val_accuracy: 0.6111\n",
      "Epoch 2/10\n",
      "7/7 [==============================] - 5s 782ms/step - loss: 2.1938 - accuracy: 0.7819 - val_loss: 3.9572 - val_accuracy: 0.5000\n",
      "Epoch 3/10\n",
      "7/7 [==============================] - 5s 720ms/step - loss: 0.4790 - accuracy: 0.9151 - val_loss: 3.8847 - val_accuracy: 0.5278\n",
      "Epoch 4/10\n",
      "7/7 [==============================] - 5s 722ms/step - loss: 0.2378 - accuracy: 0.9497 - val_loss: 2.3137 - val_accuracy: 0.5833\n",
      "Epoch 5/10\n",
      "7/7 [==============================] - 5s 783ms/step - loss: 0.0253 - accuracy: 0.9859 - val_loss: 1.7155 - val_accuracy: 0.6111\n",
      "Epoch 6/10\n",
      "7/7 [==============================] - 5s 716ms/step - loss: 0.0236 - accuracy: 0.9988 - val_loss: 1.6708 - val_accuracy: 0.6389\n",
      "Epoch 7/10\n",
      "7/7 [==============================] - 5s 788ms/step - loss: 0.0717 - accuracy: 0.9668 - val_loss: 1.4092 - val_accuracy: 0.6389\n",
      "Epoch 8/10\n",
      "7/7 [==============================] - 5s 725ms/step - loss: 0.0455 - accuracy: 0.9910 - val_loss: 1.3721 - val_accuracy: 0.6667\n",
      "Epoch 9/10\n",
      "7/7 [==============================] - 5s 772ms/step - loss: 0.1074 - accuracy: 0.9816 - val_loss: 2.0744 - val_accuracy: 0.5278\n",
      "Epoch 10/10\n",
      "7/7 [==============================] - 5s 717ms/step - loss: 0.0210 - accuracy: 0.9889 - val_loss: 0.8702 - val_accuracy: 0.5556\n"
     ]
    }
   ],
   "source": [
    "b_model = tf.keras.models.Sequential([\n",
    "    tf.keras.layers.Input(shape=shape),\n",
    "    tf.keras.layers.BatchNormalization(),\n",
    "    tf.keras.layers.Conv2D(filters=6,\n",
    "                           kernel_size=(3, 3),\n",
    "                           padding='same',\n",
    "                           activation='relu'),\n",
    "    tf.keras.layers.MaxPool2D(pool_size=(2, 2), padding='valid'),\n",
    "    tf.keras.layers.BatchNormalization(),\n",
    "    tf.keras.layers.Conv2D(filters=16, \n",
    "                           kernel_size=(5, 5),\n",
    "                           padding='same',\n",
    "                           activation='relu'),\n",
    "    tf.keras.layers.MaxPool2D(pool_size=(2, 2), padding='valid'),\n",
    "    tf.keras.layers.BatchNormalization(),\n",
    "    tf.keras.layers.Flatten(),\n",
    "    tf.keras.layers.Dense(32, activation='relu'),\n",
    "    tf.keras.layers.Dense(1, activation='sigmoid')]\n",
    ")\n",
    "\n",
    "b_model.compile(optimizer='adam', loss='binary_crossentropy', metrics=['accuracy'])\n",
    "b_model.summary()\n",
    "b_model.fit(train, validation_data=test, epochs=10);"
   ]
  },
  {
   "cell_type": "markdown",
   "metadata": {},
   "source": [
    "Посчитаем accuracy на отложенной выборке."
   ]
  },
  {
   "cell_type": "code",
   "execution_count": 7,
   "metadata": {},
   "outputs": [
    {
     "name": "stdout",
     "output_type": "stream",
     "text": [
      "Accuracy: 0.45098039215686275\n",
      "\n",
      "Classification Report\n",
      "              precision    recall  f1-score   support\n",
      "\n",
      "         0.0       0.44      0.71      0.54        70\n",
      "         1.0       0.49      0.23      0.31        83\n",
      "\n",
      "    accuracy                           0.45       153\n",
      "   macro avg       0.46      0.47      0.43       153\n",
      "weighted avg       0.46      0.45      0.42       153\n",
      "\n",
      "Confusion matrix\n",
      "[[50 20]\n",
      " [64 19]]\n"
     ]
    }
   ],
   "source": [
    "score_and_show(b_model, x_val, y_val)"
   ]
  },
  {
   "cell_type": "markdown",
   "metadata": {},
   "source": [
    "Как видим, введение батч-нормализации в нашем случае не помогло. Модель явно переобучилась и на отложенной выборке показала более худший результат."
   ]
  },
  {
   "cell_type": "markdown",
   "metadata": {},
   "source": [
    "Построим модель ResNet 50 инициализированную случайными весами и обучим ее."
   ]
  },
  {
   "cell_type": "code",
   "execution_count": 8,
   "metadata": {},
   "outputs": [
    {
     "name": "stdout",
     "output_type": "stream",
     "text": [
      "Found 208 images belonging to 2 classes.\n",
      "Found 36 images belonging to 2 classes.\n",
      "Found 153 images belonging to 2 classes.\n"
     ]
    }
   ],
   "source": [
    "shape=(224, 224, 3)\n",
    "batch_size=32\n",
    "seed=42\n",
    "\n",
    "train_generator = tf.keras.preprocessing.image.ImageDataGenerator(validation_split=0.15)\n",
    "val_generator = tf.keras.preprocessing.image.ImageDataGenerator()\n",
    "\n",
    "train = train_generator.flow_from_directory(\"hymenoptera_data/train\", target_size=shape[:2], batch_size=batch_size, class_mode='binary', subset='training', seed=seed)\n",
    "test = train_generator.flow_from_directory(\"hymenoptera_data/train\", target_size=shape[:2], batch_size=batch_size, class_mode='binary', subset='validation', seed=seed)\n",
    "val = val_generator.flow_from_directory(\"hymenoptera_data/val\", target_size=shape[:2], batch_size=batch_size, class_mode='binary')\n",
    "\n",
    "x_val = np.concatenate([val.next()[0] for i in range(val.__len__())])\n",
    "y_val = np.concatenate([val.next()[1] for i in range(val.__len__())])"
   ]
  },
  {
   "cell_type": "code",
   "execution_count": 9,
   "metadata": {},
   "outputs": [
    {
     "name": "stdout",
     "output_type": "stream",
     "text": [
      "Model: \"model\"\n",
      "_________________________________________________________________\n",
      "Layer (type)                 Output Shape              Param #   \n",
      "=================================================================\n",
      "input_2 (InputLayer)         [(None, 224, 224, 3)]     0         \n",
      "_________________________________________________________________\n",
      "tf.cast (TFOpLambda)         (None, 224, 224, 3)       0         \n",
      "_________________________________________________________________\n",
      "tf.__operators__.getitem (Sl (None, 224, 224, 3)       0         \n",
      "_________________________________________________________________\n",
      "tf.nn.bias_add (TFOpLambda)  (None, 224, 224, 3)       0         \n",
      "_________________________________________________________________\n",
      "resnet50 (Functional)        (None, None, None, 2048)  23587712  \n",
      "_________________________________________________________________\n",
      "flatten_2 (Flatten)          (None, 100352)            0         \n",
      "_________________________________________________________________\n",
      "dense_4 (Dense)              (None, 1)                 100353    \n",
      "=================================================================\n",
      "Total params: 23,688,065\n",
      "Trainable params: 23,634,945\n",
      "Non-trainable params: 53,120\n",
      "_________________________________________________________________\n",
      "Epoch 1/10\n",
      "7/7 [==============================] - 74s 10s/step - loss: 8.5061 - accuracy: 0.5044 - val_loss: 35596.9531 - val_accuracy: 0.5000\n",
      "Epoch 2/10\n",
      "7/7 [==============================] - 69s 10s/step - loss: 2.2854 - accuracy: 0.5596 - val_loss: 2719328.0000 - val_accuracy: 0.5000\n",
      "Epoch 3/10\n",
      "7/7 [==============================] - 69s 10s/step - loss: 2.9855 - accuracy: 0.6202 - val_loss: 654742.7500 - val_accuracy: 0.5000\n",
      "Epoch 4/10\n",
      "7/7 [==============================] - 69s 10s/step - loss: 2.3835 - accuracy: 0.5003 - val_loss: 1028030.6875 - val_accuracy: 0.5000\n",
      "Epoch 5/10\n",
      "7/7 [==============================] - 70s 10s/step - loss: 1.3256 - accuracy: 0.5465 - val_loss: 520580.7188 - val_accuracy: 0.5000\n",
      "Epoch 6/10\n",
      "7/7 [==============================] - 69s 10s/step - loss: 1.0077 - accuracy: 0.6264 - val_loss: 400365.2188 - val_accuracy: 0.5000\n",
      "Epoch 7/10\n",
      "7/7 [==============================] - 69s 10s/step - loss: 2.6631 - accuracy: 0.5871 - val_loss: 54548.1523 - val_accuracy: 0.5000\n",
      "Epoch 8/10\n",
      "7/7 [==============================] - 69s 10s/step - loss: 1.9156 - accuracy: 0.6674 - val_loss: 525.9050 - val_accuracy: 0.6389\n",
      "Epoch 9/10\n",
      "7/7 [==============================] - 69s 11s/step - loss: 2.4998 - accuracy: 0.6558 - val_loss: 4720.7510 - val_accuracy: 0.5000\n",
      "Epoch 10/10\n",
      "7/7 [==============================] - 69s 10s/step - loss: 1.2565 - accuracy: 0.6926 - val_loss: 5046.7202 - val_accuracy: 0.5000\n"
     ]
    }
   ],
   "source": [
    "i = tf.keras.layers.Input(shape, dtype=tf.uint8)\n",
    "o = tf.cast(i, tf.float32)\n",
    "o = tf.keras.applications.resnet50.preprocess_input(o)\n",
    "o = tf.keras.applications.ResNet50(include_top=False, weights=None)(o)\n",
    "o = tf.keras.layers.Flatten()(o)\n",
    "o = tf.keras.layers.Dense(1, activation='sigmoid')(o)\n",
    "\n",
    "rnnw_model = tf.keras.Model(inputs=[i], outputs=[o])\n",
    "rnnw_model.compile(optimizer='adam', loss='binary_crossentropy', metrics=['accuracy'])\n",
    "rnnw_model.summary()\n",
    "rnnw_model.fit(train, validation_data=test, epochs=10);"
   ]
  },
  {
   "cell_type": "markdown",
   "metadata": {},
   "source": [
    "Посчитаем accuracy на отложенной выборке."
   ]
  },
  {
   "cell_type": "code",
   "execution_count": 10,
   "metadata": {},
   "outputs": [
    {
     "name": "stdout",
     "output_type": "stream",
     "text": [
      "Accuracy: 0.5620915032679739\n",
      "\n",
      "Classification Report\n",
      "              precision    recall  f1-score   support\n",
      "\n",
      "         0.0       0.80      0.06      0.11        70\n",
      "         1.0       0.55      0.99      0.71        83\n",
      "\n",
      "    accuracy                           0.56       153\n",
      "   macro avg       0.68      0.52      0.41       153\n",
      "weighted avg       0.67      0.56      0.43       153\n",
      "\n",
      "Confusion matrix\n",
      "[[ 4 66]\n",
      " [ 1 82]]\n"
     ]
    }
   ],
   "source": [
    "score_and_show(rnnw_model, x_val, y_val)"
   ]
  },
  {
   "cell_type": "markdown",
   "metadata": {},
   "source": [
    "Как видим, модель предсказывает довольно плохо. Вероятно, слишком мало сэмплов для обучения."
   ]
  },
  {
   "cell_type": "markdown",
   "metadata": {},
   "source": [
    "Построим модель ResNet 50 инициализированную весами ImageNet и обучим ее."
   ]
  },
  {
   "cell_type": "code",
   "execution_count": 11,
   "metadata": {},
   "outputs": [
    {
     "name": "stdout",
     "output_type": "stream",
     "text": [
      "Model: \"model_1\"\n",
      "_________________________________________________________________\n",
      "Layer (type)                 Output Shape              Param #   \n",
      "=================================================================\n",
      "input_5 (InputLayer)         [(None, 224, 224, 3)]     0         \n",
      "_________________________________________________________________\n",
      "tf.cast_1 (TFOpLambda)       (None, 224, 224, 3)       0         \n",
      "_________________________________________________________________\n",
      "tf.__operators__.getitem_1 ( (None, 224, 224, 3)       0         \n",
      "_________________________________________________________________\n",
      "tf.nn.bias_add_1 (TFOpLambda (None, 224, 224, 3)       0         \n",
      "_________________________________________________________________\n",
      "resnet50 (Functional)        (None, None, None, 2048)  23587712  \n",
      "_________________________________________________________________\n",
      "flatten_3 (Flatten)          (None, 100352)            0         \n",
      "_________________________________________________________________\n",
      "dense_5 (Dense)              (None, 1)                 100353    \n",
      "=================================================================\n",
      "Total params: 23,688,065\n",
      "Trainable params: 100,353\n",
      "Non-trainable params: 23,587,712\n",
      "_________________________________________________________________\n",
      "Epoch 1/10\n",
      "7/7 [==============================] - 19s 2s/step - loss: 2.4786 - accuracy: 0.6024 - val_loss: 0.8075 - val_accuracy: 0.9444\n",
      "Epoch 2/10\n",
      "7/7 [==============================] - 16s 2s/step - loss: 0.4252 - accuracy: 0.9353 - val_loss: 0.6404 - val_accuracy: 0.9444\n",
      "Epoch 3/10\n",
      "7/7 [==============================] - 16s 2s/step - loss: 0.0742 - accuracy: 0.9924 - val_loss: 0.2274 - val_accuracy: 0.9444\n",
      "Epoch 4/10\n",
      "7/7 [==============================] - 16s 2s/step - loss: 0.0626 - accuracy: 0.9892 - val_loss: 0.4579 - val_accuracy: 0.9444\n",
      "Epoch 5/10\n",
      "7/7 [==============================] - 16s 2s/step - loss: 2.5709e-09 - accuracy: 1.0000 - val_loss: 0.6705 - val_accuracy: 0.9444\n",
      "Epoch 6/10\n",
      "7/7 [==============================] - 16s 2s/step - loss: 3.4333e-08 - accuracy: 1.0000 - val_loss: 0.7829 - val_accuracy: 0.9444\n",
      "Epoch 7/10\n",
      "7/7 [==============================] - 16s 2s/step - loss: 1.0999e-07 - accuracy: 1.0000 - val_loss: 0.8409 - val_accuracy: 0.9444\n",
      "Epoch 8/10\n",
      "7/7 [==============================] - 16s 2s/step - loss: 3.2146e-07 - accuracy: 1.0000 - val_loss: 0.8707 - val_accuracy: 0.9444\n",
      "Epoch 9/10\n",
      "7/7 [==============================] - 16s 2s/step - loss: 1.0148e-06 - accuracy: 1.0000 - val_loss: 0.8858 - val_accuracy: 0.9444\n",
      "Epoch 10/10\n",
      "7/7 [==============================] - 16s 2s/step - loss: 1.5081e-07 - accuracy: 1.0000 - val_loss: 0.8934 - val_accuracy: 0.9444\n"
     ]
    }
   ],
   "source": [
    "resnet50 = tf.keras.applications.ResNet50(include_top=False, weights='imagenet')\n",
    "resnet50.trainable = False\n",
    "\n",
    "i = tf.keras.layers.Input(shape=shape, dtype=tf.uint8)\n",
    "o = tf.cast(i, tf.float32)\n",
    "o = tf.keras.applications.resnet50.preprocess_input(o)\n",
    "o = resnet50(o)\n",
    "o = tf.keras.layers.Flatten()(o)\n",
    "o = tf.keras.layers.Dense(1, activation='sigmoid')(o)\n",
    "\n",
    "rniw_model = tf.keras.Model(inputs=[i], outputs=[o])\n",
    "rniw_model.compile(optimizer='adam', loss='binary_crossentropy', metrics=['accuracy'])\n",
    "rniw_model.summary()\n",
    "rniw_model.fit(train, validation_data=test, epochs=10);"
   ]
  },
  {
   "cell_type": "markdown",
   "metadata": {},
   "source": [
    "Посчитаем accuracy на отложенной выборке."
   ]
  },
  {
   "cell_type": "code",
   "execution_count": 12,
   "metadata": {},
   "outputs": [
    {
     "name": "stdout",
     "output_type": "stream",
     "text": [
      "Accuracy: 0.5555555555555556\n",
      "\n",
      "Classification Report\n",
      "              precision    recall  f1-score   support\n",
      "\n",
      "         0.0       0.51      0.51      0.51        70\n",
      "         1.0       0.59      0.59      0.59        83\n",
      "\n",
      "    accuracy                           0.56       153\n",
      "   macro avg       0.55      0.55      0.55       153\n",
      "weighted avg       0.56      0.56      0.56       153\n",
      "\n",
      "Confusion matrix\n",
      "[[36 34]\n",
      " [34 49]]\n"
     ]
    }
   ],
   "source": [
    "score_and_show(rniw_model, x_val, y_val)"
   ]
  },
  {
   "cell_type": "markdown",
   "metadata": {},
   "source": [
    "Наличие весов помогло модели несколько лучше произвести классификацию в сравнении с простой моделью. Тем не менее, результы не слишком хорошие. Как и в предыдущем случае, проблема скорее всего в малом кол-ве сэмплов для обучения."
   ]
  },
  {
   "cell_type": "markdown",
   "metadata": {},
   "source": [
    "Построим модель ResNet 50 инициализированную весами ImageNet, не будем запрещать ResNet 50 обучаться и обучим ее."
   ]
  },
  {
   "cell_type": "code",
   "execution_count": 15,
   "metadata": {},
   "outputs": [
    {
     "name": "stdout",
     "output_type": "stream",
     "text": [
      "Model: \"model_2\"\n",
      "_________________________________________________________________\n",
      "Layer (type)                 Output Shape              Param #   \n",
      "=================================================================\n",
      "input_7 (InputLayer)         [(None, 224, 224, 3)]     0         \n",
      "_________________________________________________________________\n",
      "tf.cast_2 (TFOpLambda)       (None, 224, 224, 3)       0         \n",
      "_________________________________________________________________\n",
      "tf.__operators__.getitem_2 ( (None, 224, 224, 3)       0         \n",
      "_________________________________________________________________\n",
      "tf.nn.bias_add_2 (TFOpLambda (None, 224, 224, 3)       0         \n",
      "_________________________________________________________________\n",
      "resnet50 (Functional)        (None, None, None, 2048)  23587712  \n",
      "_________________________________________________________________\n",
      "flatten_4 (Flatten)          (None, 100352)            0         \n",
      "_________________________________________________________________\n",
      "dense_6 (Dense)              (None, 1)                 100353    \n",
      "=================================================================\n",
      "Total params: 23,688,065\n",
      "Trainable params: 23,634,945\n",
      "Non-trainable params: 53,120\n",
      "_________________________________________________________________\n",
      "Epoch 1/10\n",
      "7/7 [==============================] - 325s 42s/step - loss: 1.9846 - accuracy: 0.6615 - val_loss: 1061.0669 - val_accuracy: 0.5833\n",
      "Epoch 2/10\n",
      "7/7 [==============================] - 79s 11s/step - loss: 1.1386 - accuracy: 0.8600 - val_loss: 37462.1094 - val_accuracy: 0.6667\n",
      "Epoch 3/10\n",
      "7/7 [==============================] - 70s 11s/step - loss: 2.7373 - accuracy: 0.7885 - val_loss: 161377.0625 - val_accuracy: 0.5278\n",
      "Epoch 4/10\n",
      "7/7 [==============================] - 71s 10s/step - loss: 3.3890 - accuracy: 0.7615 - val_loss: 85621.0234 - val_accuracy: 0.5000\n",
      "Epoch 5/10\n",
      "7/7 [==============================] - 71s 11s/step - loss: 3.6888 - accuracy: 0.7535 - val_loss: 14174.9316 - val_accuracy: 0.5000\n",
      "Epoch 6/10\n",
      "7/7 [==============================] - 70s 10s/step - loss: 8.2983 - accuracy: 0.6545 - val_loss: 1353063.5000 - val_accuracy: 0.5000\n",
      "Epoch 7/10\n",
      "7/7 [==============================] - 71s 10s/step - loss: 6.9655 - accuracy: 0.7102 - val_loss: 537767.7500 - val_accuracy: 0.5000\n",
      "Epoch 8/10\n",
      "7/7 [==============================] - 70s 10s/step - loss: 3.4762 - accuracy: 0.6769 - val_loss: 90731.8047 - val_accuracy: 0.4722\n",
      "Epoch 9/10\n",
      "7/7 [==============================] - 69s 10s/step - loss: 3.0181 - accuracy: 0.6933 - val_loss: 9185.5625 - val_accuracy: 0.5278\n",
      "Epoch 10/10\n",
      "7/7 [==============================] - 69s 10s/step - loss: 1.2779 - accuracy: 0.7067 - val_loss: 42136.5898 - val_accuracy: 0.5278\n"
     ]
    }
   ],
   "source": [
    "resnet50 = tf.keras.applications.ResNet50(include_top=False, weights='imagenet')\n",
    "resnet50.trainable = True\n",
    "i = tf.keras.layers.Input(shape=shape, dtype=tf.uint8)\n",
    "o = tf.cast(i, tf.float32)\n",
    "o = tf.keras.applications.resnet50.preprocess_input(o)\n",
    "o = resnet50(o)\n",
    "o = tf.keras.layers.Flatten()(o)\n",
    "o = tf.keras.layers.Dense(1, activation='sigmoid')(o)\n",
    "\n",
    "rniwp_model = tf.keras.Model(inputs=[i], outputs=[o])\n",
    "rniwp_model.compile(optimizer='adam', loss='binary_crossentropy', metrics=['accuracy'])\n",
    "rniwp_model.summary()\n",
    "rniwp_model.fit(train, validation_data=test, epochs=10);"
   ]
  },
  {
   "cell_type": "markdown",
   "metadata": {},
   "source": [
    "Посчитаем accuracy на отложенной выборке."
   ]
  },
  {
   "cell_type": "code",
   "execution_count": 16,
   "metadata": {},
   "outputs": [
    {
     "name": "stdout",
     "output_type": "stream",
     "text": [
      "Accuracy: 0.47058823529411764\n",
      "\n",
      "Classification Report\n",
      "              precision    recall  f1-score   support\n",
      "\n",
      "         0.0       0.46      1.00      0.63        70\n",
      "         1.0       1.00      0.02      0.05        83\n",
      "\n",
      "    accuracy                           0.47       153\n",
      "   macro avg       0.73      0.51      0.34       153\n",
      "weighted avg       0.75      0.47      0.32       153\n",
      "\n",
      "Confusion matrix\n",
      "[[70  0]\n",
      " [81  2]]\n"
     ]
    }
   ],
   "source": [
    "score_and_show(rniwp_model, x_val, y_val)"
   ]
  },
  {
   "cell_type": "markdown",
   "metadata": {},
   "source": [
    "Данная модель плохо справилась со своей задачей и отнесла практически всю выборку к одному классу."
   ]
  },
  {
   "cell_type": "code",
   "execution_count": null,
   "metadata": {},
   "outputs": [],
   "source": []
  }
 ],
 "metadata": {
  "kernelspec": {
   "display_name": "Python 3",
   "language": "python",
   "name": "python3"
  },
  "language_info": {
   "codemirror_mode": {
    "name": "ipython",
    "version": 3
   },
   "file_extension": ".py",
   "mimetype": "text/x-python",
   "name": "python",
   "nbconvert_exporter": "python",
   "pygments_lexer": "ipython3",
   "version": "3.7.6"
  }
 },
 "nbformat": 4,
 "nbformat_minor": 4
}
