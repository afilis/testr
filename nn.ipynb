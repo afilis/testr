{
 "cells": [
  {
   "cell_type": "markdown",
   "metadata": {},
   "source": [
    "**Домашнее задание**\n",
    "\n",
    "Возьмите датасет https://www.kaggle.com/ajayrana/hymenoptera-data\n",
    "\n",
    "Реализуйте сверточную нейронную сеть с использованием tf.keras или keras. Используйте сверточные, пуллинговые и полносвязанные слои. Обучите на train выборке в течении 10 эпох, оцените качество на отложенной выборке\n",
    "\n",
    "Добавьте в предыдущую архитектуру слои BatchNorm. Обучите на train выборке в течении 10 эпох, оцените качество на отложенной выборке\n",
    "\n",
    "Создайте модель ResNet 50 (https://www.tensorflow.org/api_docs/python/tf/keras/applications/ResNet50), инициализированную случайными весами, и обучите ее на train выборке в течении 10 эпох, оцените качество на отложенной выборке\n",
    "\n",
    "Создайте модель ResNet 50, инициализированную весами ImageNet, и обучите ее на train выборке в течении 10 эпох, оцените качество на отложенной выборке\n",
    "\n",
    "Результат пришлите в виде Jupyter Notebook на github’е или расшаренного Google Colab-блокнота"
   ]
  },
  {
   "cell_type": "code",
   "execution_count": 1,
   "metadata": {},
   "outputs": [],
   "source": [
    "import numpy as np\n",
    "from scipy import stats\n",
    "import tensorflow as tf\n",
    "from matplotlib import pyplot as plt\n",
    "from sklearn.metrics import accuracy_score, classification_report, confusion_matrix"
   ]
  },
  {
   "cell_type": "markdown",
   "metadata": {},
   "source": [
    "Загрузим изображения, приведем к единому размеру и разделим выборки."
   ]
  },
  {
   "cell_type": "code",
   "execution_count": 2,
   "metadata": {},
   "outputs": [
    {
     "name": "stdout",
     "output_type": "stream",
     "text": [
      "Found 208 images belonging to 2 classes.\n",
      "Found 36 images belonging to 2 classes.\n",
      "Found 153 images belonging to 2 classes.\n"
     ]
    }
   ],
   "source": [
    "shape=(224, 224, 3)\n",
    "batch_size=32\n",
    "seed=42\n",
    "\n",
    "train_generator = tf.keras.preprocessing.image.ImageDataGenerator(rescale=1./255, validation_split=0.15)\n",
    "val_generator = tf.keras.preprocessing.image.ImageDataGenerator(rescale=1./255.)\n",
    "\n",
    "train = train_generator.flow_from_directory(\"hymenoptera_data/train\", target_size=shape[:2], batch_size=batch_size, class_mode='binary', subset='training', seed=seed)\n",
    "test = train_generator.flow_from_directory(\"hymenoptera_data/train\", target_size=shape[:2], batch_size=batch_size, class_mode='binary', subset='validation', seed=seed)\n",
    "val = val_generator.flow_from_directory(\"hymenoptera_data/val\", target_size=shape[:2], batch_size=batch_size, class_mode='binary')\n",
    "\n",
    "x_val = np.concatenate([val.next()[0] for i in range(val.__len__())])\n",
    "y_val = np.concatenate([val.next()[1] for i in range(val.__len__())])"
   ]
  },
  {
   "cell_type": "markdown",
   "metadata": {},
   "source": [
    "Построим простую модель сверточной сети  и обучим ее."
   ]
  },
  {
   "cell_type": "code",
   "execution_count": 3,
   "metadata": {},
   "outputs": [
    {
     "name": "stdout",
     "output_type": "stream",
     "text": [
      "Model: \"sequential\"\n",
      "_________________________________________________________________\n",
      "Layer (type)                 Output Shape              Param #   \n",
      "=================================================================\n",
      "conv2d (Conv2D)              (None, 224, 224, 6)       168       \n",
      "_________________________________________________________________\n",
      "max_pooling2d (MaxPooling2D) (None, 112, 112, 6)       0         \n",
      "_________________________________________________________________\n",
      "conv2d_1 (Conv2D)            (None, 112, 112, 16)      2416      \n",
      "_________________________________________________________________\n",
      "max_pooling2d_1 (MaxPooling2 (None, 56, 56, 16)        0         \n",
      "_________________________________________________________________\n",
      "flatten (Flatten)            (None, 50176)             0         \n",
      "_________________________________________________________________\n",
      "dense (Dense)                (None, 32)                1605664   \n",
      "_________________________________________________________________\n",
      "dense_1 (Dense)              (None, 1)                 33        \n",
      "=================================================================\n",
      "Total params: 1,608,281\n",
      "Trainable params: 1,608,281\n",
      "Non-trainable params: 0\n",
      "_________________________________________________________________\n",
      "Epoch 1/10\n",
      "7/7 [==============================] - 7s 933ms/step - loss: 0.7921 - accuracy: 0.5186 - val_loss: 0.6743 - val_accuracy: 0.5278\n",
      "Epoch 2/10\n",
      "7/7 [==============================] - 3s 453ms/step - loss: 0.6590 - accuracy: 0.5700 - val_loss: 0.6251 - val_accuracy: 0.6667\n",
      "Epoch 3/10\n",
      "7/7 [==============================] - 3s 450ms/step - loss: 0.6276 - accuracy: 0.6397 - val_loss: 0.5953 - val_accuracy: 0.6944\n",
      "Epoch 4/10\n",
      "7/7 [==============================] - 3s 452ms/step - loss: 0.5661 - accuracy: 0.6978 - val_loss: 0.5763 - val_accuracy: 0.6667\n",
      "Epoch 5/10\n",
      "7/7 [==============================] - 3s 452ms/step - loss: 0.5354 - accuracy: 0.6941 - val_loss: 0.5604 - val_accuracy: 0.6944\n",
      "Epoch 6/10\n",
      "7/7 [==============================] - 3s 455ms/step - loss: 0.4877 - accuracy: 0.7377 - val_loss: 0.5549 - val_accuracy: 0.6944\n",
      "Epoch 7/10\n",
      "7/7 [==============================] - 3s 455ms/step - loss: 0.4329 - accuracy: 0.8236 - val_loss: 0.6197 - val_accuracy: 0.7222\n",
      "Epoch 8/10\n",
      "7/7 [==============================] - 3s 448ms/step - loss: 0.3822 - accuracy: 0.8275 - val_loss: 0.5750 - val_accuracy: 0.6944\n",
      "Epoch 9/10\n",
      "7/7 [==============================] - 3s 455ms/step - loss: 0.3185 - accuracy: 0.9057 - val_loss: 0.5467 - val_accuracy: 0.6944\n",
      "Epoch 10/10\n",
      "7/7 [==============================] - 4s 597ms/step - loss: 0.2404 - accuracy: 0.9221 - val_loss: 0.5693 - val_accuracy: 0.7222\n"
     ]
    }
   ],
   "source": [
    "s_model = tf.keras.models.Sequential([\n",
    "    tf.keras.layers.Conv2D(filters=6,\n",
    "                           kernel_size=(3, 3),\n",
    "                           padding='same',\n",
    "                           activation='relu',\n",
    "                           input_shape=shape),\n",
    "    tf.keras.layers.MaxPool2D(pool_size=(2, 2), padding='valid'),\n",
    "    tf.keras.layers.Conv2D(filters=16, \n",
    "                           kernel_size=(5, 5),\n",
    "                           padding='same',\n",
    "                           activation='relu'),\n",
    "    tf.keras.layers.MaxPool2D(pool_size=(2, 2), padding='valid'),\n",
    "    tf.keras.layers.Flatten(),\n",
    "    tf.keras.layers.Dense(32, activation='relu'),\n",
    "    tf.keras.layers.Dense(1, activation='sigmoid')]\n",
    ")\n",
    "\n",
    "s_model.compile(optimizer='adam', loss='binary_crossentropy', metrics=['accuracy'])\n",
    "s_model.summary()\n",
    "s_model.fit(train, validation_data=test, epochs=10);"
   ]
  },
  {
   "cell_type": "markdown",
   "metadata": {},
   "source": [
    "Посчитаем accuracy на отложенной выборке."
   ]
  },
  {
   "cell_type": "code",
   "execution_count": 4,
   "metadata": {},
   "outputs": [
    {
     "name": "stdout",
     "output_type": "stream",
     "text": [
      "Accuracy: 0.5555555555555556\n",
      "\n",
      "Classification Report\n",
      "              precision    recall  f1-score   support\n",
      "\n",
      "         0.0       0.51      0.59      0.55        70\n",
      "         1.0       0.60      0.53      0.56        83\n",
      "\n",
      "    accuracy                           0.56       153\n",
      "   macro avg       0.56      0.56      0.56       153\n",
      "weighted avg       0.56      0.56      0.56       153\n",
      "\n",
      "Confusion matrix\n",
      "[[41 29]\n",
      " [39 44]]\n"
     ]
    }
   ],
   "source": [
    "def score_and_show(model, x, y):\n",
    "    y_pred = model.predict(x).round()\n",
    "    print(f'Accuracy: {accuracy_score(y, y_pred)}')\n",
    "    print('\\nClassification Report')\n",
    "    print(classification_report(y, y_pred))\n",
    "    print('Confusion matrix')\n",
    "    print(confusion_matrix(y, y_pred))\n",
    "\n",
    "\n",
    "score_and_show(s_model, x_val, y_val)"
   ]
  },
  {
   "cell_type": "markdown",
   "metadata": {},
   "source": [
    "Далеко не лучший результат на отложенной выборке."
   ]
  },
  {
   "cell_type": "markdown",
   "metadata": {},
   "source": [
    "Построим модель со слоями батч-нормализации и обучим ее."
   ]
  },
  {
   "cell_type": "code",
   "execution_count": 5,
   "metadata": {},
   "outputs": [
    {
     "name": "stdout",
     "output_type": "stream",
     "text": [
      "Model: \"sequential_1\"\n",
      "_________________________________________________________________\n",
      "Layer (type)                 Output Shape              Param #   \n",
      "=================================================================\n",
      "batch_normalization (BatchNo (None, 224, 224, 3)       12        \n",
      "_________________________________________________________________\n",
      "conv2d_2 (Conv2D)            (None, 224, 224, 6)       168       \n",
      "_________________________________________________________________\n",
      "max_pooling2d_2 (MaxPooling2 (None, 112, 112, 6)       0         \n",
      "_________________________________________________________________\n",
      "batch_normalization_1 (Batch (None, 112, 112, 6)       24        \n",
      "_________________________________________________________________\n",
      "conv2d_3 (Conv2D)            (None, 112, 112, 16)      2416      \n",
      "_________________________________________________________________\n",
      "max_pooling2d_3 (MaxPooling2 (None, 56, 56, 16)        0         \n",
      "_________________________________________________________________\n",
      "batch_normalization_2 (Batch (None, 56, 56, 16)        64        \n",
      "_________________________________________________________________\n",
      "flatten_1 (Flatten)          (None, 50176)             0         \n",
      "_________________________________________________________________\n",
      "dense_2 (Dense)              (None, 32)                1605664   \n",
      "_________________________________________________________________\n",
      "dense_3 (Dense)              (None, 1)                 33        \n",
      "=================================================================\n",
      "Total params: 1,608,381\n",
      "Trainable params: 1,608,331\n",
      "Non-trainable params: 50\n",
      "_________________________________________________________________\n",
      "Epoch 1/10\n",
      "7/7 [==============================] - 6s 822ms/step - loss: 3.6261 - accuracy: 0.5898 - val_loss: 6.5586 - val_accuracy: 0.5000\n",
      "Epoch 2/10\n",
      "7/7 [==============================] - 6s 809ms/step - loss: 1.5867 - accuracy: 0.7352 - val_loss: 1.2183 - val_accuracy: 0.6944\n",
      "Epoch 3/10\n",
      "7/7 [==============================] - 6s 854ms/step - loss: 0.5207 - accuracy: 0.8827 - val_loss: 2.8602 - val_accuracy: 0.6389\n",
      "Epoch 4/10\n",
      "7/7 [==============================] - 6s 865ms/step - loss: 0.1772 - accuracy: 0.9336 - val_loss: 2.5383 - val_accuracy: 0.6389\n",
      "Epoch 5/10\n",
      "7/7 [==============================] - 6s 814ms/step - loss: 0.0694 - accuracy: 0.9614 - val_loss: 1.7673 - val_accuracy: 0.6944\n",
      "Epoch 6/10\n",
      "7/7 [==============================] - 5s 741ms/step - loss: 0.0501 - accuracy: 0.9707 - val_loss: 0.9407 - val_accuracy: 0.6944\n",
      "Epoch 7/10\n",
      "7/7 [==============================] - 5s 710ms/step - loss: 0.0307 - accuracy: 0.9800 - val_loss: 0.6739 - val_accuracy: 0.6667\n",
      "Epoch 8/10\n",
      "7/7 [==============================] - 5s 736ms/step - loss: 0.0099 - accuracy: 0.9949 - val_loss: 0.7011 - val_accuracy: 0.6944\n",
      "Epoch 9/10\n",
      "7/7 [==============================] - 5s 709ms/step - loss: 0.0185 - accuracy: 0.9888 - val_loss: 0.8111 - val_accuracy: 0.6667\n",
      "Epoch 10/10\n",
      "7/7 [==============================] - 5s 707ms/step - loss: 0.0126 - accuracy: 0.9955 - val_loss: 0.7924 - val_accuracy: 0.6389\n"
     ]
    }
   ],
   "source": [
    "b_model = tf.keras.models.Sequential([\n",
    "    tf.keras.layers.Input(shape=shape),\n",
    "    tf.keras.layers.BatchNormalization(),\n",
    "    tf.keras.layers.Conv2D(filters=6,\n",
    "                           kernel_size=(3, 3),\n",
    "                           padding='same',\n",
    "                           activation='relu'),\n",
    "    tf.keras.layers.MaxPool2D(pool_size=(2, 2), padding='valid'),\n",
    "    tf.keras.layers.BatchNormalization(),\n",
    "    tf.keras.layers.Conv2D(filters=16, \n",
    "                           kernel_size=(5, 5),\n",
    "                           padding='same',\n",
    "                           activation='relu'),\n",
    "    tf.keras.layers.MaxPool2D(pool_size=(2, 2), padding='valid'),\n",
    "    tf.keras.layers.BatchNormalization(),\n",
    "    tf.keras.layers.Flatten(),\n",
    "    tf.keras.layers.Dense(32, activation='relu'),\n",
    "    tf.keras.layers.Dense(1, activation='sigmoid')]\n",
    ")\n",
    "\n",
    "b_model.compile(optimizer='adam', loss='binary_crossentropy', metrics=['accuracy'])\n",
    "b_model.summary()\n",
    "b_model.fit(train, validation_data=test, epochs=10);"
   ]
  },
  {
   "cell_type": "markdown",
   "metadata": {},
   "source": [
    "Посчитаем accuracy на отложенной выборке."
   ]
  },
  {
   "cell_type": "code",
   "execution_count": 6,
   "metadata": {},
   "outputs": [
    {
     "name": "stdout",
     "output_type": "stream",
     "text": [
      "Accuracy: 0.5294117647058824\n",
      "\n",
      "Classification Report\n",
      "              precision    recall  f1-score   support\n",
      "\n",
      "         0.0       0.49      0.90      0.64        70\n",
      "         1.0       0.72      0.22      0.33        83\n",
      "\n",
      "    accuracy                           0.53       153\n",
      "   macro avg       0.61      0.56      0.48       153\n",
      "weighted avg       0.62      0.53      0.47       153\n",
      "\n",
      "Confusion matrix\n",
      "[[63  7]\n",
      " [65 18]]\n"
     ]
    }
   ],
   "source": [
    "score_and_show(b_model, x_val, y_val)"
   ]
  },
  {
   "cell_type": "markdown",
   "metadata": {},
   "source": [
    "Как видим, введение батч-нормализации в нашем случае не помогло. Модель явно переобучилась и на отложенной выборке показала более худший результат."
   ]
  },
  {
   "cell_type": "markdown",
   "metadata": {},
   "source": [
    "Построим модель ResNet 50 инициализированную случайными весами и обучим ее."
   ]
  },
  {
   "cell_type": "code",
   "execution_count": 7,
   "metadata": {},
   "outputs": [
    {
     "name": "stdout",
     "output_type": "stream",
     "text": [
      "Model: \"model\"\n",
      "_________________________________________________________________\n",
      "Layer (type)                 Output Shape              Param #   \n",
      "=================================================================\n",
      "input_2 (InputLayer)         [(None, 224, 224, 3)]     0         \n",
      "_________________________________________________________________\n",
      "tf.cast (TFOpLambda)         (None, 224, 224, 3)       0         \n",
      "_________________________________________________________________\n",
      "tf.__operators__.getitem (Sl (None, 224, 224, 3)       0         \n",
      "_________________________________________________________________\n",
      "tf.nn.bias_add (TFOpLambda)  (None, 224, 224, 3)       0         \n",
      "_________________________________________________________________\n",
      "resnet50 (Functional)        (None, None, None, 2048)  23587712  \n",
      "_________________________________________________________________\n",
      "flatten_2 (Flatten)          (None, 100352)            0         \n",
      "_________________________________________________________________\n",
      "dense_4 (Dense)              (None, 1)                 100353    \n",
      "=================================================================\n",
      "Total params: 23,688,065\n",
      "Trainable params: 23,634,945\n",
      "Non-trainable params: 53,120\n",
      "_________________________________________________________________\n",
      "Epoch 1/10\n",
      "7/7 [==============================] - 76s 10s/step - loss: 25.3466 - accuracy: 0.4930 - val_loss: 4385.9932 - val_accuracy: 0.5000\n",
      "Epoch 2/10\n",
      "7/7 [==============================] - 68s 10s/step - loss: 11.4041 - accuracy: 0.5639 - val_loss: 18999.7812 - val_accuracy: 0.5000\n",
      "Epoch 3/10\n",
      "7/7 [==============================] - 68s 10s/step - loss: 16.2401 - accuracy: 0.3785 - val_loss: 41534.9375 - val_accuracy: 0.5000\n",
      "Epoch 4/10\n",
      "7/7 [==============================] - 68s 10s/step - loss: 14.2320 - accuracy: 0.5198 - val_loss: 8324.0625 - val_accuracy: 0.5000\n",
      "Epoch 5/10\n",
      "7/7 [==============================] - 68s 10s/step - loss: 3.6579 - accuracy: 0.4880 - val_loss: 6555.3335 - val_accuracy: 0.5000\n",
      "Epoch 6/10\n",
      "7/7 [==============================] - 68s 10s/step - loss: 5.0124 - accuracy: 0.4433 - val_loss: 861.7825 - val_accuracy: 0.5000\n",
      "Epoch 7/10\n",
      "7/7 [==============================] - 68s 10s/step - loss: 1.7227 - accuracy: 0.4389 - val_loss: 159.4286 - val_accuracy: 0.5000\n",
      "Epoch 8/10\n",
      "7/7 [==============================] - 68s 10s/step - loss: 2.1475 - accuracy: 0.5181 - val_loss: 188.9799 - val_accuracy: 0.5000\n",
      "Epoch 9/10\n",
      "7/7 [==============================] - 68s 10s/step - loss: 1.7323 - accuracy: 0.4764 - val_loss: 155.5902 - val_accuracy: 0.5000\n",
      "Epoch 10/10\n",
      "7/7 [==============================] - 68s 10s/step - loss: 2.5094 - accuracy: 0.5181 - val_loss: 4.0454 - val_accuracy: 0.5000\n"
     ]
    }
   ],
   "source": [
    "i = tf.keras.layers.Input(shape, dtype=tf.uint8)\n",
    "o = tf.cast(i, tf.float32)\n",
    "o = tf.keras.applications.resnet50.preprocess_input(o)\n",
    "o = tf.keras.applications.ResNet50(include_top=False, weights=None)(o)\n",
    "o = tf.keras.layers.Flatten()(o)\n",
    "o = tf.keras.layers.Dense(1, activation='sigmoid')(o)\n",
    "\n",
    "rnnw_model = tf.keras.Model(inputs=[i], outputs=[o])\n",
    "rnnw_model.compile(optimizer='adam', loss='binary_crossentropy', metrics=['accuracy'])\n",
    "rnnw_model.summary()\n",
    "rnnw_model.fit(train, validation_data=test, epochs=10);"
   ]
  },
  {
   "cell_type": "markdown",
   "metadata": {},
   "source": [
    "Посчитаем accuracy на отложенной выборке."
   ]
  },
  {
   "cell_type": "code",
   "execution_count": 8,
   "metadata": {},
   "outputs": [
    {
     "name": "stdout",
     "output_type": "stream",
     "text": [
      "Accuracy: 0.45751633986928103\n",
      "\n",
      "Classification Report\n",
      "              precision    recall  f1-score   support\n",
      "\n",
      "         0.0       0.46      1.00      0.63        70\n",
      "         1.0       0.00      0.00      0.00        83\n",
      "\n",
      "    accuracy                           0.46       153\n",
      "   macro avg       0.23      0.50      0.31       153\n",
      "weighted avg       0.21      0.46      0.29       153\n",
      "\n",
      "Confusion matrix\n",
      "[[70  0]\n",
      " [83  0]]\n"
     ]
    },
    {
     "name": "stderr",
     "output_type": "stream",
     "text": [
      "/media/ilia/Vol3/anaconda3/lib/python3.7/site-packages/sklearn/metrics/_classification.py:1221: UndefinedMetricWarning: Precision and F-score are ill-defined and being set to 0.0 in labels with no predicted samples. Use `zero_division` parameter to control this behavior.\n",
      "  _warn_prf(average, modifier, msg_start, len(result))\n"
     ]
    }
   ],
   "source": [
    "score_and_show(rnnw_model, x_val, y_val)"
   ]
  },
  {
   "cell_type": "markdown",
   "metadata": {},
   "source": [
    "Как видим, модель всегда предсказывает один и тот же класс. Вероятно, слишком мало сэмплов для обучения."
   ]
  },
  {
   "cell_type": "markdown",
   "metadata": {},
   "source": [
    "Построим модель ResNet 50 инициализированную весами ImageNet и обучим ее."
   ]
  },
  {
   "cell_type": "code",
   "execution_count": 9,
   "metadata": {},
   "outputs": [
    {
     "name": "stdout",
     "output_type": "stream",
     "text": [
      "Model: \"model_1\"\n",
      "_________________________________________________________________\n",
      "Layer (type)                 Output Shape              Param #   \n",
      "=================================================================\n",
      "input_5 (InputLayer)         [(None, 224, 224, 3)]     0         \n",
      "_________________________________________________________________\n",
      "tf.cast_1 (TFOpLambda)       (None, 224, 224, 3)       0         \n",
      "_________________________________________________________________\n",
      "tf.__operators__.getitem_1 ( (None, 224, 224, 3)       0         \n",
      "_________________________________________________________________\n",
      "tf.nn.bias_add_1 (TFOpLambda (None, 224, 224, 3)       0         \n",
      "_________________________________________________________________\n",
      "resnet50 (Functional)        (None, None, None, 2048)  23587712  \n",
      "_________________________________________________________________\n",
      "flatten_3 (Flatten)          (None, 100352)            0         \n",
      "_________________________________________________________________\n",
      "dense_5 (Dense)              (None, 1)                 100353    \n",
      "=================================================================\n",
      "Total params: 23,688,065\n",
      "Trainable params: 100,353\n",
      "Non-trainable params: 23,587,712\n",
      "_________________________________________________________________\n",
      "Epoch 1/10\n",
      "7/7 [==============================] - 19s 2s/step - loss: 2.1561 - accuracy: 0.4739 - val_loss: 1.3544 - val_accuracy: 0.5000\n",
      "Epoch 2/10\n",
      "7/7 [==============================] - 16s 2s/step - loss: 1.4670 - accuracy: 0.5398 - val_loss: 1.4162 - val_accuracy: 0.5000\n",
      "Epoch 3/10\n",
      "7/7 [==============================] - 16s 2s/step - loss: 1.1048 - accuracy: 0.5227 - val_loss: 1.0005 - val_accuracy: 0.5000\n",
      "Epoch 4/10\n",
      "7/7 [==============================] - 16s 2s/step - loss: 1.0847 - accuracy: 0.5568 - val_loss: 1.2104 - val_accuracy: 0.5000\n",
      "Epoch 5/10\n",
      "7/7 [==============================] - 16s 2s/step - loss: 0.9238 - accuracy: 0.5331 - val_loss: 0.8465 - val_accuracy: 0.5000\n",
      "Epoch 6/10\n",
      "7/7 [==============================] - 16s 2s/step - loss: 0.8649 - accuracy: 0.5354 - val_loss: 0.6954 - val_accuracy: 0.5278\n",
      "Epoch 7/10\n",
      "7/7 [==============================] - 16s 2s/step - loss: 0.6880 - accuracy: 0.4895 - val_loss: 0.6867 - val_accuracy: 0.5278\n",
      "Epoch 8/10\n",
      "7/7 [==============================] - 16s 2s/step - loss: 0.6663 - accuracy: 0.5593 - val_loss: 0.6870 - val_accuracy: 0.5278\n",
      "Epoch 9/10\n",
      "7/7 [==============================] - 16s 2s/step - loss: 0.6943 - accuracy: 0.5291 - val_loss: 0.6956 - val_accuracy: 0.5278\n",
      "Epoch 10/10\n",
      "7/7 [==============================] - 16s 2s/step - loss: 0.6864 - accuracy: 0.5173 - val_loss: 0.6956 - val_accuracy: 0.5278\n"
     ]
    }
   ],
   "source": [
    "resnet50 = tf.keras.applications.ResNet50(include_top=False, weights='imagenet')\n",
    "resnet50.trainable = False\n",
    "\n",
    "i = tf.keras.layers.Input(shape=shape, dtype=tf.uint8)\n",
    "o = tf.cast(i, tf.float32)\n",
    "o = tf.keras.applications.resnet50.preprocess_input(o)\n",
    "o = resnet50(o)\n",
    "o = tf.keras.layers.Flatten()(o)\n",
    "o = tf.keras.layers.Dense(1, activation='sigmoid')(o)\n",
    "\n",
    "rniw_model = tf.keras.Model(inputs=[i], outputs=[o])\n",
    "rniw_model.compile(optimizer='adam', loss='binary_crossentropy', metrics=['accuracy'])\n",
    "rniw_model.summary()\n",
    "rniw_model.fit(train, validation_data=test, epochs=10);"
   ]
  },
  {
   "cell_type": "markdown",
   "metadata": {},
   "source": [
    "Посчитаем accuracy на отложенной выборке."
   ]
  },
  {
   "cell_type": "code",
   "execution_count": 10,
   "metadata": {},
   "outputs": [
    {
     "name": "stdout",
     "output_type": "stream",
     "text": [
      "Accuracy: 0.5490196078431373\n",
      "\n",
      "Classification Report\n",
      "              precision    recall  f1-score   support\n",
      "\n",
      "         0.0       0.56      0.07      0.13        70\n",
      "         1.0       0.55      0.95      0.70        83\n",
      "\n",
      "    accuracy                           0.55       153\n",
      "   macro avg       0.55      0.51      0.41       153\n",
      "weighted avg       0.55      0.55      0.44       153\n",
      "\n",
      "Confusion matrix\n",
      "[[ 5 65]\n",
      " [ 4 79]]\n"
     ]
    }
   ],
   "source": [
    "score_and_show(rniw_model, x_val, y_val)"
   ]
  },
  {
   "cell_type": "markdown",
   "metadata": {},
   "source": [
    "На модели с весами ImageNet заметно явное предсказание в пользу одиного из классов. Наличие весов помогло модели несколько лучше произвести классификацию. Тем не менее, результы плохие. Как и в предыдущем случае, проблема скорее всего в малом кол-ве сэмплов для обучения."
   ]
  },
  {
   "cell_type": "markdown",
   "metadata": {},
   "source": [
    "Построим модель ResNet 50 инициализированную весами ImageNet, не будем запрещать ResNet 50 обучаться и обучим ее."
   ]
  },
  {
   "cell_type": "code",
   "execution_count": 11,
   "metadata": {},
   "outputs": [
    {
     "name": "stdout",
     "output_type": "stream",
     "text": [
      "Model: \"model_2\"\n",
      "_________________________________________________________________\n",
      "Layer (type)                 Output Shape              Param #   \n",
      "=================================================================\n",
      "input_7 (InputLayer)         [(None, 224, 224, 3)]     0         \n",
      "_________________________________________________________________\n",
      "tf.cast_2 (TFOpLambda)       (None, 224, 224, 3)       0         \n",
      "_________________________________________________________________\n",
      "tf.__operators__.getitem_2 ( (None, 224, 224, 3)       0         \n",
      "_________________________________________________________________\n",
      "tf.nn.bias_add_2 (TFOpLambda (None, 224, 224, 3)       0         \n",
      "_________________________________________________________________\n",
      "resnet50 (Functional)        (None, None, None, 2048)  23587712  \n",
      "_________________________________________________________________\n",
      "flatten_4 (Flatten)          (None, 100352)            0         \n",
      "_________________________________________________________________\n",
      "dense_6 (Dense)              (None, 1)                 100353    \n",
      "=================================================================\n",
      "Total params: 23,688,065\n",
      "Trainable params: 23,634,945\n",
      "Non-trainable params: 53,120\n",
      "_________________________________________________________________\n",
      "Epoch 1/10\n",
      "7/7 [==============================] - 74s 10s/step - loss: 10.7232 - accuracy: 0.5065 - val_loss: 0.8441 - val_accuracy: 0.5000\n",
      "Epoch 2/10\n",
      "7/7 [==============================] - 68s 10s/step - loss: 3.3922 - accuracy: 0.4296 - val_loss: 11538.0400 - val_accuracy: 0.5000\n",
      "Epoch 3/10\n",
      "7/7 [==============================] - 68s 10s/step - loss: 4.8133 - accuracy: 0.4871 - val_loss: 11228.8818 - val_accuracy: 0.5000\n",
      "Epoch 4/10\n",
      "7/7 [==============================] - 68s 10s/step - loss: 1.5376 - accuracy: 0.5121 - val_loss: 22610.1719 - val_accuracy: 0.5000\n",
      "Epoch 5/10\n",
      "7/7 [==============================] - 68s 10s/step - loss: 1.2312 - accuracy: 0.5020 - val_loss: 16968.7031 - val_accuracy: 0.5000\n",
      "Epoch 6/10\n",
      "7/7 [==============================] - 68s 10s/step - loss: 0.8622 - accuracy: 0.5374 - val_loss: 10564.2480 - val_accuracy: 0.5000\n",
      "Epoch 7/10\n",
      "7/7 [==============================] - 68s 10s/step - loss: 0.9315 - accuracy: 0.5477 - val_loss: 5370.0630 - val_accuracy: 0.5000\n",
      "Epoch 8/10\n",
      "7/7 [==============================] - 68s 10s/step - loss: 0.8984 - accuracy: 0.5476 - val_loss: 2131.2478 - val_accuracy: 0.5000\n",
      "Epoch 9/10\n",
      "7/7 [==============================] - 68s 10s/step - loss: 0.7012 - accuracy: 0.5546 - val_loss: 544.7397 - val_accuracy: 0.5000\n",
      "Epoch 10/10\n",
      "7/7 [==============================] - 68s 10s/step - loss: 0.6492 - accuracy: 0.6313 - val_loss: 21.5616 - val_accuracy: 0.5000\n"
     ]
    }
   ],
   "source": [
    "resnet50 = tf.keras.applications.ResNet50(include_top=False, weights='imagenet')\n",
    "resnet50.trainable = True\n",
    "i = tf.keras.layers.Input(shape=shape, dtype=tf.uint8)\n",
    "o = tf.cast(i, tf.float32)\n",
    "o = tf.keras.applications.resnet50.preprocess_input(o)\n",
    "o = resnet50(o)\n",
    "o = tf.keras.layers.Flatten()(o)\n",
    "o = tf.keras.layers.Dense(1, activation='sigmoid')(o)\n",
    "\n",
    "rniwp_model = tf.keras.Model(inputs=[i], outputs=[o])\n",
    "rniwp_model.compile(optimizer='adam', loss='binary_crossentropy', metrics=['accuracy'])\n",
    "rniwp_model.summary()\n",
    "rniwp_model.fit(train, validation_data=test, epochs=10);"
   ]
  },
  {
   "cell_type": "markdown",
   "metadata": {},
   "source": [
    "Посчитаем accuracy на отложенной выборке."
   ]
  },
  {
   "cell_type": "code",
   "execution_count": 12,
   "metadata": {},
   "outputs": [
    {
     "name": "stdout",
     "output_type": "stream",
     "text": [
      "Accuracy: 0.5490196078431373\n",
      "\n",
      "Classification Report\n",
      "              precision    recall  f1-score   support\n",
      "\n",
      "         0.0       1.00      0.01      0.03        70\n",
      "         1.0       0.55      1.00      0.71        83\n",
      "\n",
      "    accuracy                           0.55       153\n",
      "   macro avg       0.77      0.51      0.37       153\n",
      "weighted avg       0.75      0.55      0.40       153\n",
      "\n",
      "Confusion matrix\n",
      "[[ 1 69]\n",
      " [ 0 83]]\n"
     ]
    }
   ],
   "source": [
    "score_and_show(rniwp_model, x_val, y_val)"
   ]
  },
  {
   "cell_type": "markdown",
   "metadata": {},
   "source": [
    "К сожалению, изменений в качестве не прослеживается."
   ]
  }
 ],
 "metadata": {
  "kernelspec": {
   "display_name": "Python 3",
   "language": "python",
   "name": "python3"
  },
  "language_info": {
   "codemirror_mode": {
    "name": "ipython",
    "version": 3
   },
   "file_extension": ".py",
   "mimetype": "text/x-python",
   "name": "python",
   "nbconvert_exporter": "python",
   "pygments_lexer": "ipython3",
   "version": "3.7.6"
  }
 },
 "nbformat": 4,
 "nbformat_minor": 4
}
